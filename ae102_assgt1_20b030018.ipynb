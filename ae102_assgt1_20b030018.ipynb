{
 "cells": [
  {
   "cell_type": "markdown",
   "metadata": {},
   "source": [
    "# Assignment - 1\n",
    "#### Hanan Basheer (20b030018)\n"
   ]
  },
  {
   "cell_type": "markdown",
   "metadata": {},
   "source": [
    "### Question 1"
   ]
  },
  {
   "cell_type": "markdown",
   "metadata": {},
   "source": [
    "a) Sample space:\n",
    "- Tetrahedral - {1, 2, 3, 4}\n",
    "- Octahedral - {1, 2, 3, 4, 5, 6, 7, 8}\n",
    "\n",
    "b) Size of event space = 4*8 = 32\n",
    "\n",
    "c) Max sum possible - 8 + 4 = 12\n",
    "<br> Hence, Primes below 12 - 2, 3, 5, 7, 11\n",
    "<br> Possible ways to form 2 - 1\n",
    "<br> Possible ways to form 3 - 2\n",
    "<br> Possible ways to form 5 - 4\n",
    "<br> Possible ways to form 7 - 4\n",
    "<br> Possible ways to form 11 - 2\n",
    "\n",
    "Probability of getting a prime sum = (Number of ways to get prime sum)/(event space) \n",
    "<br> = (1+2+4+4+2)/32\n",
    "<br> = 13/32 "
   ]
  },
  {
   "cell_type": "markdown",
   "metadata": {},
   "source": [
    "### Question 2"
   ]
  },
  {
   "cell_type": "markdown",
   "metadata": {},
   "source": [
    "P($A^{c}$ U $B^{c}$) = 1 - P(A ∩ B)\n",
    "<br><br>\n",
    "As, P($x^{c}$) = 1 - P(x) , and then applying De-Morgan's Law\n",
    "<br>\n",
    "But, P(A ∩ B) = P(A)P(B) [as A and B are independent events]\n",
    "<br>\n",
    "Thus, P($A^{c}$ U $B^{c}$) = 1 - P(A)P(B)\n",
    "<br><br>\n",
    "Hence Proved"
   ]
  },
  {
   "cell_type": "markdown",
   "metadata": {},
   "source": [
    "### Question 3"
   ]
  },
  {
   "cell_type": "markdown",
   "metadata": {},
   "source": [
    "Since we already got a red ball that shrinks our event space to {(R, W), (R, R)}\n",
    "<br> Hence probability that both balls are red = 1/2"
   ]
  },
  {
   "cell_type": "markdown",
   "metadata": {},
   "source": [
    "### Question 4"
   ]
  },
  {
   "cell_type": "code",
   "execution_count": null,
   "metadata": {},
   "outputs": [],
   "source": [
    "def factorial(x):\n",
    "    if x==1:\n",
    "        return 1:\n",
    "    else:\n",
    "        return factorial(x-1)*x\n",
    "\n",
    "print(factorial(5))"
   ]
  }
 ],
 "metadata": {
  "language_info": {
   "name": "python"
  },
  "orig_nbformat": 4
 },
 "nbformat": 4,
 "nbformat_minor": 2
}
