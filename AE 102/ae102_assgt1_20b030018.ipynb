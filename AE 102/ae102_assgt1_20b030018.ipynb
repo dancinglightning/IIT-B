{
 "cells": [
  {
   "cell_type": "markdown",
   "metadata": {},
   "source": [
    "# Assignment - 1\n",
    "#### Hanan Basheer (20b030018)\n"
   ]
  },
  {
   "cell_type": "markdown",
   "metadata": {},
   "source": [
    "### Question 1"
   ]
  },
  {
   "cell_type": "markdown",
   "metadata": {},
   "source": [
    "a) Sample space:\n",
    "- Tetrahedral - {1, 2, 3, 4}\n",
    "- Octahedral - {1, 2, 3, 4, 5, 6, 7, 8}\n",
    "\n",
    "b) Size of event space = 4*8 = 32\n",
    "\n",
    "c) Max sum possible - 8 + 4 = 12\n",
    "<br> Hence, Primes below 12 - 2, 3, 5, 7, 11\n",
    "<br> Possible ways to form 2 - 1\n",
    "<br> Possible ways to form 3 - 2\n",
    "<br> Possible ways to form 5 - 4\n",
    "<br> Possible ways to form 7 - 4\n",
    "<br> Possible ways to form 11 - 2\n",
    "\n",
    "Probability of getting a prime sum = (Number of ways to get prime sum)/(event space) \n",
    "<br> = (1+2+4+4+2)/32\n",
    "<br> = 13/32 "
   ]
  },
  {
   "cell_type": "markdown",
   "metadata": {},
   "source": [
    "### Question 2"
   ]
  },
  {
   "cell_type": "markdown",
   "metadata": {},
   "source": [
    "P($A^{c}$ U $B^{c}$) = 1 - P(A ∩ B)\n",
    "<br><br>\n",
    "As, P($x^{c}$) = 1 - P(x) , and then applying De-Morgan's Law\n",
    "<br>\n",
    "But, P(A ∩ B) = P(A)P(B) [as A and B are independent events]\n",
    "<br>\n",
    "Thus, P($A^{c}$ U $B^{c}$) = 1 - P(A)P(B)\n",
    "<br><br>\n",
    "Hence Proved"
   ]
  },
  {
   "cell_type": "markdown",
   "metadata": {},
   "source": [
    "### Question 3"
   ]
  },
  {
   "cell_type": "markdown",
   "metadata": {},
   "source": [
    "Since we already got a red ball that shrinks our event space to {(R, W), (R, R)}\n",
    "<br> Hence probability that both balls are red = 1/2"
   ]
  },
  {
   "cell_type": "markdown",
   "metadata": {},
   "source": [
    "### Question 4"
   ]
  },
  {
   "cell_type": "code",
   "execution_count": 151,
   "metadata": {},
   "outputs": [
    {
     "name": "stdout",
     "output_type": "stream",
     "text": [
      "120\n"
     ]
    }
   ],
   "source": [
    "def factorial(x):    # Recursive solution\n",
    "    if x==1:\n",
    "        return 1\n",
    "    else:\n",
    "        return factorial(x-1)*x\n",
    "\n",
    "print(factorial(5))   # return 5!"
   ]
  },
  {
   "cell_type": "markdown",
   "metadata": {},
   "source": [
    "### Question 5"
   ]
  },
  {
   "cell_type": "code",
   "execution_count": 152,
   "metadata": {},
   "outputs": [],
   "source": [
    "from numpy import *\n",
    "from matplotlib.pyplot import *\n",
    "import warnings\n",
    "warnings.filterwarnings('ignore')\n",
    "%matplotlib inline"
   ]
  },
  {
   "cell_type": "code",
   "execution_count": 153,
   "metadata": {},
   "outputs": [],
   "source": [
    "def inscribed_polygon(n, radius=1.0):   # Area of n-sided inscribed polygon\n",
    "    assert(isinstance(n, int))\n",
    "    assert(n > 2)\n",
    "    theta = 2*pi/n\n",
    "    base = 2*radius*sin(theta/2)\n",
    "    height = radius*cos(theta/2)\n",
    "    area_triangle = 0.5 * base * height\n",
    "    area = n*area_triangle\n",
    "    return area"
   ]
  },
  {
   "cell_type": "code",
   "execution_count": 154,
   "metadata": {},
   "outputs": [],
   "source": [
    "def circumscribed_polygon(n, height=1.0):   # Area of n-sided circumscribed polygon\n",
    "    assert(isinstance(n, int))\n",
    "    assert(n > 2)\n",
    "    theta = 2*pi/n\n",
    "    radius = height/cos(theta/2)\n",
    "    base = 2*radius*sin(theta/2)\n",
    "    area_triangle = 0.5 * base * height\n",
    "    area = n*area_triangle\n",
    "    return area"
   ]
  },
  {
   "cell_type": "code",
   "execution_count": 155,
   "metadata": {},
   "outputs": [
    {
     "data": {
      "text/plain": [
       "<matplotlib.legend.Legend at 0x1879f70ab20>"
      ]
     },
     "execution_count": 155,
     "metadata": {},
     "output_type": "execute_result"
    },
    {
     "data": {
      "image/png": "[encoded data removed]",
      "text/plain": [
       "<Figure size 432x288 with 1 Axes>"
      ]
     },
     "metadata": {
      "needs_background": "light"
     },
     "output_type": "display_data"
    }
   ],
   "source": [
    "iter = []\n",
    "inner = []\n",
    "outer = []\n",
    "difference = []\n",
    "for i in range(3, 101):\n",
    "    iter.append(i)\n",
    "    inner.append(inscribed_polygon(i))\n",
    "    outer.append(circumscribed_polygon(i))\n",
    "    difference.append(circumscribed_polygon(i) - inscribed_polygon(i))\n",
    "\n",
    "plot(iter, inner)\n",
    "plot(iter, outer)\n",
    "legend([\"Inscribed Area\", \"Circumscribed Area\"])\n"
   ]
  },
  {
   "cell_type": "code",
   "execution_count": 156,
   "metadata": {},
   "outputs": [
    {
     "data": {
      "text/plain": [
       "<matplotlib.legend.Legend at 0x1879f7373a0>"
      ]
     },
     "execution_count": 156,
     "metadata": {},
     "output_type": "execute_result"
    },
    {
     "data": {
      "image/png": "[encoded data removed]",
      "text/plain": [
       "<Figure size 432x288 with 1 Axes>"
      ]
     },
     "metadata": {
      "needs_background": "light"
     },
     "output_type": "display_data"
    }
   ],
   "source": [
    "plot(iter, outer)\n",
    "legend([\"Difference in Polygon Areas vs n\"])"
   ]
  },
  {
   "cell_type": "code",
   "execution_count": 157,
   "metadata": {},
   "outputs": [
    {
     "name": "stdout",
     "output_type": "stream",
     "text": [
      "Minimum value of n such that pi is accurate upto 2 decimal places =  57\n"
     ]
    }
   ],
   "source": [
    "inner_area = 0\n",
    "outer_area = 1\n",
    "n = 3\n",
    "while round(inner_area, 2) - round(outer_area, 2) !=0:\n",
    "    inner_area = inscribed_polygon(n)\n",
    "    outer_area = circumscribed_polygon(n)\n",
    "    n += 1\n",
    "\n",
    "print(\"Minimum value of n such that pi is accurate upto 2 decimal places =\", n)"
   ]
  }
 ],
 "metadata": {
  "interpreter": {
   "hash": "3f5f9dcdd44b552a62717887740505ed91f33b7cb8d50b8ca5e7c6b5e965c068"
  },
  "kernelspec": {
   "display_name": "Python 3.8.6 64-bit",
   "language": "python",
   "name": "python3"
  },
  "language_info": {
   "codemirror_mode": {
    "name": "ipython",
    "version": 3
   },
   "file_extension": ".py",
   "mimetype": "text/x-python",
   "name": "python",
   "nbconvert_exporter": "python",
   "pygments_lexer": "ipython3",
   "version": "3.8.6"
  },
  "orig_nbformat": 4
 },
 "nbformat": 4,
 "nbformat_minor": 2
}
